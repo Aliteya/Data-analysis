{
 "cells": [
  {
   "cell_type": "markdown",
   "metadata": {},
   "source": [
    "трансформируем массив нампай из датасета в тензоры для дальнейшего обучения нейросети"
   ]
  },
  {
   "cell_type": "code",
   "execution_count": 17,
   "metadata": {},
   "outputs": [],
   "source": [
    "import torch\n",
    "import torch.nn as nn\n",
    "import torch.optim as optim\n",
    "import torchvision\n",
    "import torchvision.transforms as transforms\n",
    "import matplotlib.pyplot as plt\n",
    "\n",
    "transform = transforms.ToTensor()\n",
    "\n",
    "train_dataset = torchvision.datasets.MNIST(root='./data', train=True, download=True, transform=transform)\n",
    "test_dataset = torchvision.datasets.MNIST(root='./data', train=False, download=True, transform=transform)"
   ]
  },
  {
   "cell_type": "markdown",
   "metadata": {},
   "source": [
    "PyTorch Dataloader — это служебный класс, разработанный для упрощения загрузки и итерации по наборам данных при обучении моделей глубокого обучения. Он имеет различные ограничения для итерации наборов данных, такие как пакетирование, перемешивание и обработка данных\n",
    "Также пишу простой класс для нейросети унаследованный от стандартной модели пайторч. "
   ]
  },
  {
   "cell_type": "code",
   "execution_count": 18,
   "metadata": {},
   "outputs": [],
   "source": [
    "train_loader = torch.utils.data.DataLoader(train_dataset, batch_size=32, shuffle=True)\n",
    "test_loader = torch.utils.data.DataLoader(test_dataset, batch_size=32, shuffle=False)\n",
    "\n",
    "class SimpleNN(nn.Module):\n",
    "    def __init__(self):\n",
    "        super().__init__()\n",
    "        self.flatten = nn.Flatten()  \n",
    "        self.linear_relu_stack = nn.Sequential(\n",
    "            nn.Linear(28 * 28, 512),   \n",
    "            nn.ReLU(),   \n",
    "            nn.Dropout(0.2),             \n",
    "\n",
    "            nn.Linear(512, 256),         \n",
    "            nn.ReLU(),\n",
    "            nn.Dropout(0.2),\n",
    "\n",
    "            nn.Linear(256, 10)    \n",
    "        )\n",
    "\n",
    "    def forward(self, x):\n",
    "        x = self.flatten(x)             \n",
    "        logits = self.linear_relu_stack(x)\n",
    "        return logits\n",
    "\n",
    "model = SimpleNN()"
   ]
  },
  {
   "cell_type": "markdown",
   "metadata": {},
   "source": [
    "Произошла одна эпоха (epoch) — весь датасет прошел через нейронную сеть в прямом и обратном направлении только один раз.\n",
    "\n",
    "Так как одна эпоха слишком велика для используемой вычислительной мощности, датасет делят на маленькие партии — батчи.\n",
    "\n",
    "Почему мы используем более одной эпохи\n",
    "Вначале не понятно, почему недостаточно одного полного прохода датасета через нейронную сеть, и почему необходимо пускать полный датасет по сети несколько раз.\n",
    "\n",
    "Нужно помнить, что мы используем ограниченный датасет, чтобы оптимизировать обучение и подстроить кривую под данные. Делается это с помощью градиентного спуска — итеративного процесса. Поэтому обновления весов после одного прохождения недостаточно.\n",
    "Размер батча — это общее число тренировочных объектов, представленных в одном батче.\n",
    "\n",
    "Отметим: Размер батча и число батчей — два разных параметра.\n",
    "\n",
    "Что такое батч?\n",
    "Нельзя пропустить через нейронную сеть разом весь датасет. Поэтому делим данные на пакеты, сеты или партии, так же, как большая статья делится на много разделов — введение, градиентный спуск, эпохи, Batch size и итерации. Такое разбиение позволяет легче прочитать и понять статью.\n",
    "Итерации\n",
    "Итерации — число батчей, необходимых для завершения одной эпохи.\n",
    "\n",
    "Отметим: число батчей равно числу итераций для одной эпохи."
   ]
  },
  {
   "cell_type": "code",
   "execution_count": 19,
   "metadata": {},
   "outputs": [
    {
     "name": "stdout",
     "output_type": "stream",
     "text": [
      "loss: 2.295039  [   32/60000]\n",
      "loss: 0.985993  [ 3232/60000]\n",
      "loss: 0.560425  [ 6432/60000]\n",
      "loss: 0.303056  [ 9632/60000]\n",
      "loss: 0.479208  [12832/60000]\n",
      "loss: 0.192748  [16032/60000]\n",
      "loss: 0.151004  [19232/60000]\n",
      "loss: 0.204267  [22432/60000]\n",
      "loss: 0.088533  [25632/60000]\n",
      "loss: 0.248018  [28832/60000]\n",
      "loss: 0.169895  [32032/60000]\n",
      "loss: 0.253147  [35232/60000]\n",
      "loss: 0.306009  [38432/60000]\n",
      "loss: 0.075808  [41632/60000]\n",
      "loss: 0.019181  [44832/60000]\n",
      "loss: 0.029778  [48032/60000]\n",
      "loss: 0.467229  [51232/60000]\n",
      "loss: 0.435195  [54432/60000]\n",
      "loss: 0.069487  [57632/60000]\n",
      "loss: 0.093260  [   32/60000]\n",
      "loss: 0.093719  [ 3232/60000]\n",
      "loss: 0.099129  [ 6432/60000]\n",
      "loss: 0.161228  [ 9632/60000]\n",
      "loss: 0.012441  [12832/60000]\n",
      "loss: 0.104086  [16032/60000]\n",
      "loss: 0.138072  [19232/60000]\n",
      "loss: 0.082151  [22432/60000]\n",
      "loss: 0.058729  [25632/60000]\n",
      "loss: 0.156536  [28832/60000]\n",
      "loss: 0.057394  [32032/60000]\n",
      "loss: 0.070711  [35232/60000]\n",
      "loss: 0.048362  [38432/60000]\n",
      "loss: 0.013149  [41632/60000]\n",
      "loss: 0.140639  [44832/60000]\n",
      "loss: 0.049511  [48032/60000]\n",
      "loss: 0.141774  [51232/60000]\n",
      "loss: 0.070391  [54432/60000]\n",
      "loss: 0.126324  [57632/60000]\n",
      "loss: 0.160824  [   32/60000]\n",
      "loss: 0.024563  [ 3232/60000]\n",
      "loss: 0.056447  [ 6432/60000]\n",
      "loss: 0.029631  [ 9632/60000]\n",
      "loss: 0.004578  [12832/60000]\n",
      "loss: 0.125716  [16032/60000]\n",
      "loss: 0.090515  [19232/60000]\n",
      "loss: 0.139645  [22432/60000]\n",
      "loss: 0.170459  [25632/60000]\n",
      "loss: 0.194607  [28832/60000]\n",
      "loss: 0.095366  [32032/60000]\n",
      "loss: 0.062844  [35232/60000]\n",
      "loss: 0.247567  [38432/60000]\n",
      "loss: 0.009308  [41632/60000]\n",
      "loss: 0.138533  [44832/60000]\n",
      "loss: 0.038050  [48032/60000]\n",
      "loss: 0.072649  [51232/60000]\n",
      "loss: 0.056009  [54432/60000]\n",
      "loss: 0.110196  [57632/60000]\n"
     ]
    }
   ],
   "source": [
    "loss_fn = nn.CrossEntropyLoss()           \n",
    "optimizer = optim.Adam(model.parameters())\n",
    "\n",
    "def train(dataloader, model, loss_fn, optimizer):\n",
    "    size = len(dataloader.dataset)\n",
    "    model.train()\n",
    "    for batch, (X, y) in enumerate(dataloader):\n",
    "    \n",
    "        pred = model(X)\n",
    "        loss = loss_fn(pred, y)\n",
    "\n",
    "        optimizer.zero_grad()\n",
    "        loss.backward()\n",
    "        optimizer.step()\n",
    "\n",
    "        if batch % 100 == 0:\n",
    "            loss, current = loss.item(), (batch + 1) * len(X)\n",
    "            print(f\"loss: {loss:>7f}  [{current:>5d}/{size:>5d}]\")\n",
    "\n",
    "epochs = 3\n",
    "for t in range(epochs):\n",
    "    train(train_loader, model, loss_fn, optimizer)\n"
   ]
  },
  {
   "cell_type": "markdown",
   "metadata": {},
   "source": [
    "Смотрим метрики"
   ]
  },
  {
   "cell_type": "code",
   "execution_count": 20,
   "metadata": {},
   "outputs": [
    {
     "name": "stdout",
     "output_type": "stream",
     "text": [
      "Accuracy: 97.8%, Avg loss: 0.073519 \n",
      "\n"
     ]
    }
   ],
   "source": [
    "size = len(test_loader.dataset)\n",
    "num_batches = len(test_loader)\n",
    "model.eval()\n",
    "test_loss, correct = 0, 0\n",
    "with torch.no_grad():\n",
    "    for X, y in test_loader:\n",
    "        pred = model(X)\n",
    "        test_loss += loss_fn(pred, y).item()\n",
    "        correct += (pred.argmax(1) == y).type(torch.float).sum().item()\n",
    "test_loss /= num_batches\n",
    "correct /= size\n",
    "print(f\"Accuracy: {(100*correct):>0.1f}%, Avg loss: {test_loss:>8f} \\n\")\n"
   ]
  },
  {
   "cell_type": "code",
   "execution_count": 21,
   "metadata": {},
   "outputs": [
    {
     "name": "stdout",
     "output_type": "stream",
     "text": [
      "Правильные предсказания:\n"
     ]
    },
    {
     "data": {
      "image/png": "[encoded data removed]",
      "text/plain": [
       "<Figure size 1500x400 with 5 Axes>"
      ]
     },
     "metadata": {},
     "output_type": "display_data"
    },
    {
     "name": "stdout",
     "output_type": "stream",
     "text": [
      "Ошибочные предсказания:\n"
     ]
    },
    {
     "data": {
      "image/png": "[encoded data removed]",
      "text/plain": [
       "<Figure size 1500x400 with 5 Axes>"
      ]
     },
     "metadata": {},
     "output_type": "display_data"
    }
   ],
   "source": [
    "model.eval()\n",
    "\n",
    "correct_images = []\n",
    "incorrect_images = []\n",
    "correct_labels = []\n",
    "incorrect_labels = []\n",
    "correct_preds = []\n",
    "incorrect_preds = []\n",
    "\n",
    "with torch.no_grad():\n",
    "    for images, labels in test_loader:\n",
    "        outputs = model(images)\n",
    "        _, predicted = torch.max(outputs.data, 1)\n",
    "        \n",
    "        correct = (predicted == labels)\n",
    "        incorrect = ~correct\n",
    "        \n",
    "        correct_indices = correct.nonzero(as_tuple=True)[0]\n",
    "        incorrect_indices = incorrect.nonzero(as_tuple=True)[0]\n",
    "        \n",
    "        for idx in correct_indices:\n",
    "            correct_images.append(images[idx].squeeze().numpy())\n",
    "            correct_labels.append(labels[idx].item())\n",
    "            correct_preds.append(predicted[idx].item())\n",
    "        \n",
    "        for idx in incorrect_indices:\n",
    "            incorrect_images.append(images[idx].squeeze().numpy())\n",
    "            incorrect_labels.append(labels[idx].item())\n",
    "            incorrect_preds.append(predicted[idx].item())\n",
    "\n",
    "num_correct = min(5, len(correct_images))\n",
    "print(\"Правильные предсказания:\")\n",
    "fig, axes = plt.subplots(1, num_correct, figsize=(15, 4))\n",
    "if num_correct > 1:\n",
    "    for i in range(num_correct):\n",
    "        ax = axes[i]\n",
    "        ax.imshow(correct_images[i], cmap='gray')\n",
    "        ax.set_title(f\"Pred: {correct_preds[i]}\\nTrue: {correct_labels[i]}\")\n",
    "        ax.axis('off')\n",
    "else: \n",
    "    axes.imshow(correct_images[0], cmap='gray')\n",
    "    axes.set_title(f\"Pred: {correct_preds[0]}\\nTrue: {correct_labels[0]}\")\n",
    "    axes.axis('off')\n",
    "    \n",
    "plt.show()\n",
    "\n",
    "num_incorrect = min(5, len(incorrect_images)) \n",
    "print(\"Ошибочные предсказания:\")\n",
    "fig, axes = plt.subplots(1, num_incorrect, figsize=(15, 4))\n",
    "if num_incorrect > 1:\n",
    "    for i in range(num_incorrect):\n",
    "        ax = axes[i]\n",
    "        ax.imshow(incorrect_images[i], cmap='gray')\n",
    "        ax.set_title(f\"Pred: {incorrect_preds[i]}\\nTrue: {incorrect_labels[i]}\", color='red')\n",
    "        ax.axis('off')\n",
    "else: \n",
    "    axes.imshow(incorrect_images[0], cmap='gray')\n",
    "    axes.set_title(f\"Pred: {incorrect_preds[0]}\\nTrue: {incorrect_labels[0]}\", color='red')\n",
    "    axes.axis('off')\n",
    "plt.show()\n"
   ]
  }
 ],
 "metadata": {
  "kernelspec": {
   "display_name": "myenv",
   "language": "python",
   "name": "python3"
  },
  "language_info": {
   "codemirror_mode": {
    "name": "ipython",
    "version": 3
   },
   "file_extension": ".py",
   "mimetype": "text/x-python",
   "name": "python",
   "nbconvert_exporter": "python",
   "pygments_lexer": "ipython3",
   "version": "3.10.13"
  }
 },
 "nbformat": 4,
 "nbformat_minor": 2
}
